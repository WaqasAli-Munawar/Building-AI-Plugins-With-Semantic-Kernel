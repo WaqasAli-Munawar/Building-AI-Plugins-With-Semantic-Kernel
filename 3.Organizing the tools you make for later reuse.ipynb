{
 "cells": [
  {
   "cell_type": "markdown",
   "metadata": {},
   "source": [
    "1. Grow the existing business\n",
    "2. Save money and time\n",
    "3. Add completely new business\n",
    "4. Prepare for the unknown"
   ]
  },
  {
   "cell_type": "code",
   "execution_count": 1,
   "metadata": {
    "height": 302
   },
   "outputs": [
    {
     "name": "stdout",
     "output_type": "stream",
     "text": [
      "A kernel is now ready.\n"
     ]
    }
   ],
   "source": [
    "import semantic_kernel as sk\n",
    "\n",
    "from semantic_kernel.connectors.ai.open_ai import AzureChatCompletion, OpenAIChatCompletion\n",
    "from IPython.display import display, Markdown\n",
    "\n",
    "kernel = sk.Kernel()\n",
    "\n",
    "useAzureOpenAI = False\n",
    "\n",
    "if useAzureOpenAI:\n",
    "    deployment, api_key, endpoint = sk.azure_openai_settings_from_dot_env()\n",
    "    kernel.add_text_completion_service(\"azureopenai\", AzureChatCompletion(deployment, endpoint, api_key))\n",
    "else:\n",
    "    api_key, org_id = sk.openai_settings_from_dot_env()\n",
    "    kernel.add_text_completion_service(\"openai\", OpenAIChatCompletion(\"gpt-3.5-turbo-0301\", api_key, org_id))\n",
    "\n",
    "print(\"A kernel is now ready.\")    "
   ]
  },
  {
   "cell_type": "markdown",
   "metadata": {},
   "source": [
    "```directory\n",
    "plugins-sk/\n",
    "│\n",
    "└─── BusinessThinking/\n",
    "     |\n",
    "     └─── BasicStrategies/\n",
    "     |    └─── config.json\n",
    "     |    └─── skprompt.txt\n",
    "     |\n",
    "     └─── SeekCostEfficiency/\n",
    "     |    └─── config.json\n",
    "     |    └─── skprompt.txt\n",
    "     |\n",
    "     └─── SeekTimeEfficiency/\n",
    "          └─── config.json\n",
    "          └─── skprompt.txt\n",
    "```"
   ]
  },
  {
   "cell_type": "markdown",
   "metadata": {},
   "source": [
    "**Note**: To see the plugins directory, select 'file' at the top of the jupyter notebook. Then select 'open'. This will open a tab with a file directory view where you can see the plugins-sk directory and examine the files used in this lab."
   ]
  },
  {
   "cell_type": "code",
   "execution_count": 2,
   "metadata": {
    "height": 285
   },
   "outputs": [
    {
     "data": {
      "text/markdown": [
       "### ✨ Suggestions for how to gain cost efficiencies\n",
       "| Title | Strength | Weakness | Description |\n",
       "| ----- | -------- | -------- | ----------- |\n",
       "| Cross-training staff | Strong local reputation, Owner trained in Sicily | High staff turnover | By cross-training staff, the business can reduce the need for constant hiring and training, which can be costly. This will also ensure that there is always enough staff to handle busy periods and reduce the risk of understaffing. |\n",
       "| Menu optimization | Unique garlic pizza recipe that wins top awards | Absence of popular calzones from menu, Negative reviews from younger demographic for lack of hip ingredients | By optimizing the menu to include popular items such as calzones and trendy ingredients, the business can attract a wider range of customers and increase sales. This can also help address negative reviews from younger customers who may be looking for more modern options. |\n",
       "| Repurposing damaged seating areas | Prime location on university campus | Floods in the area damaged the seating areas that are in need of repair | Instead of completely replacing the damaged seating areas, the business can repurpose them by using them for outdoor seating or creating a more casual atmosphere. This can save on the cost of repairs while still providing a comfortable space for customers. |"
      ],
      "text/plain": [
       "<IPython.core.display.Markdown object>"
      ]
     },
     "metadata": {},
     "output_type": "display_data"
    }
   ],
   "source": [
    "strengths = [ \"Unique garlic pizza recipe that wins top awards\",\n",
    "             \"Owner trained in Sicily at some of the best pizzerias\",\n",
    "             \"Strong local reputation\",\n",
    "             \"Prime location on university campus\" ]\n",
    "\n",
    "weaknesses = [ \"High staff turnover\",\n",
    "              \"Floods in the area damaged the seating areas that are in need of repair\",\n",
    "              \"Absence of popular calzones from menu\",\n",
    "              \"Negative reviews from younger demographic for lack of hip ingredients\" ]\n",
    "\n",
    "pluginsDirectory = \"./plugins-sk\"\n",
    "\n",
    "pluginBT = kernel.import_semantic_skill_from_directory(pluginsDirectory, \"BusinessThinking\");\n",
    "\n",
    "my_context = kernel.create_new_context()\n",
    "my_context['input'] = 'makes pizzas'\n",
    "my_context['strengths'] = \", \".join(strengths)\n",
    "my_context['weaknesses'] = \", \".join(weaknesses)\n",
    "\n",
    "costefficiency_result = await kernel.run_async(pluginBT[\"SeekCostEfficiency\"], input_context=my_context)\n",
    "costefficiency_str = str(\"### ✨ Suggestions for how to gain cost efficiencies\\n\" + str(costefficiency_result))\n",
    "display(Markdown(costefficiency_str))"
   ]
  },
  {
   "cell_type": "markdown",
   "metadata": {},
   "source": [
    "### ✨ Suggestions for how to gain cost efficiencies\n",
    "\n",
    "| Title | Strength | Weakness | Description |\n",
    "| --- | --- | --- | --- |\n",
    "| Cross-training staff | Strong local reputation, Owner trained in Sicily | High staff turnover | By cross-training staff, the business can reduce the need for constant hiring and training, which can be costly. This will also ensure that there is always enough staff to handle busy periods and reduce the risk of understaffing. |\n",
    "| Menu optimization | Unique garlic pizza recipe that wins top awards | Absence of popular calzones from menu, Negative reviews from younger demographic for lack of hip ingredients | By optimizing the menu to include popular items such as calzones and trendy ingredients, the business can attract a wider range of customers and increase sales. This can also help address negative reviews from younger customers who may be looking for more modern options. |\n",
    "| Repurposing damaged seating areas | Prime location on university campus | Floods in the area damaged the seating areas that are in need of repair | Instead of completely replacing the damaged seating areas, the business can repurpose them by using them for outdoor seating or creating a more casual atmosphere. This can save on the cost of repairs while still providing a comfortable space for customers. |"
   ]
  },
  {
   "cell_type": "code",
   "execution_count": 3,
   "metadata": {
    "height": 285
   },
   "outputs": [
    {
     "data": {
      "text/markdown": [
       "## ✨ Business strategy thinking based on SWOT analysis\n",
       "### Building on strengths can immediately improve the business\n",
       "\n",
       "| Title | Strength | Weakness | Description |\n",
       "| ----- | -------- | -------- | ----------- |\n",
       "| Expand catering services | Strong local reputation | High staff turnover | Catering services can be expanded to generate additional revenue and provide a more stable income for the business. |\n",
       "| Introduce new menu items | Unique garlic pizza recipe that wins top awards | Absence of popular calzones from menu | By introducing new menu items, the business can attract new customers and keep existing ones interested. |\n",
       "| Improve online presence | Prime location on university campus | Negative reviews from younger demographic for lack of hip ingredients | Improving the business's online presence can help it reach a wider audience and showcase its unique strengths. |\n",
       "\n",
       "### Taking advantage of opportunities whenever possible\n",
       "\n",
       "| Title | Opportunity | Description |\n",
       "| ----- | -------- | ----------- |\n",
       "| Partner with local tech startups | Growing local tech startup community | Partnering with local tech startups can help the business tap into a new customer base and provide catering services for their events. |\n",
       "| Expand online ordering capabilities | Unexplored online presence and order capabilities | Expanding online ordering capabilities can make it easier for customers to order and pay for their food, and can help the business reach a wider audience. |\n",
       "| Participate in annual food fair | Upcoming annual food fair | Participating in the annual food fair can help the business showcase its unique strengths and attract new customers. |\n",
       "\n",
       "### Building resilience to threats is always a good idea\n",
       "\n",
       "| Title | Threat | Description |\n",
       "| ----- | -------- | ----------- |\n",
       "| Diversify menu offerings | Competition from cheaper pizza businesses nearby | Diversifying menu offerings can help the business differentiate itself from competitors and attract new customers. |\n",
       "| Offer delivery services | There's nearby street construction that will impact foot traffic | Offering delivery services can help the business reach customers who may not be able to visit the physical location due to construction or other factors. |\n",
       "| Explore alternative cheese options | Rising cost of cheese will increase the cost of pizzas | Exploring alternative cheese options can help the business mitigate the impact of rising cheese costs and keep prices competitive. |"
      ],
      "text/plain": [
       "<IPython.core.display.Markdown object>"
      ]
     },
     "metadata": {},
     "output_type": "display_data"
    }
   ],
   "source": [
    "opportunities = [ \"Untapped catering potential\",\"Growing local tech startup community\",\"Unexplored online presence and order capabilities\",\"Upcoming annual food fair\" ]\n",
    "threats = [ \"Competition from cheaper pizza businesses nearby\",\"There's nearby street construction that will impact foot traffic\",\"Rising cost of cheese will increase the cost of pizzas\",\"No immediate local regulatory changes but it's election season\" ]\n",
    "\n",
    "pluginBT = kernel.import_semantic_skill_from_directory(pluginsDirectory, \"BusinessThinking\");\n",
    "\n",
    "my_context = kernel.create_new_context()\n",
    "my_context['input'] = 'makes pizzas'\n",
    "my_context['strengths'] = \", \".join(strengths)\n",
    "my_context['weaknesses'] = \", \".join(weaknesses)\n",
    "my_context['opportunities'] = \", \".join(opportunities)\n",
    "my_context['threats'] = \", \".join(threats)\n",
    "\n",
    "bizstrat_result = await kernel.run_async(pluginBT[\"BasicStrategies\"],input_context=my_context)\n",
    "bizstrat_str = \"## ✨ Business strategy thinking based on SWOT analysis\\n\"+str(bizstrat_result)\n",
    "display(Markdown(bizstrat_str))"
   ]
  },
  {
   "cell_type": "markdown",
   "metadata": {},
   "source": [
    "## ✨ Business strategy thinking based on SWOT analysis\n",
    "\n",
    "### Building on strengths can immediately improve the business\n",
    "\n",
    "| Title | Strength | Weakness | Description |\n",
    "| --- | --- | --- | --- |\n",
    "| Expand catering services | Strong local reputation | High staff turnover | Catering services can be expanded to generate additional revenue and provide a more stable income for the business. |\n",
    "| Introduce new menu items | Unique garlic pizza recipe that wins top awards | Absence of popular calzones from menu | By introducing new menu items, the business can attract new customers and keep existing ones interested. |\n",
    "| Improve online presence | Prime location on university campus | Negative reviews from younger demographic for lack of hip ingredients | Improving the business's online presence can help it reach a wider audience and showcase its unique strengths. |\n",
    "\n",
    "### Taking advantage of opportunities whenever possible\n",
    "\n",
    "| Title | Opportunity | Description |\n",
    "| --- | --- | --- |\n",
    "| Partner with local tech startups | Growing local tech startup community | Partnering with local tech startups can help the business tap into a new customer base and provide catering services for their events. |\n",
    "| Expand online ordering capabilities | Unexplored online presence and order capabilities | Expanding online ordering capabilities can make it easier for customers to order and pay for their food, and can help the business reach a wider audience. |\n",
    "| Participate in annual food fair | Upcoming annual food fair | Participating in the annual food fair can help the business showcase its unique strengths and attract new customers. |\n",
    "\n",
    "### Building resilience to threats is always a good idea\n",
    "\n",
    "| Title | Threat | Description |\n",
    "| --- | --- | --- |\n",
    "| Diversify menu offerings | Competition from cheaper pizza businesses nearby | Diversifying menu offerings can help the business differentiate itself from competitors and attract new customers. |\n",
    "| Offer delivery services | There's nearby street construction that will impact foot traffic | Offering delivery services can help the business reach customers who may not be able to visit the physical location due to construction or other factors. |\n",
    "| Explore alternative cheese options | Rising cost of cheese will increase the cost of pizzas | Exploring alternative cheese options can help the business mitigate the impact of rising cheese costs and keep prices competitive. |"
   ]
  },
  {
   "cell_type": "markdown",
   "metadata": {},
   "source": [
    "Another way to think of it is the famous \"bucket of time\" and \"bucket of money\" depiction of a business owner.\n",
    "\n",
    "![](./assets/shopkeeper.png)\n"
   ]
  },
  {
   "cell_type": "code",
   "execution_count": null,
   "metadata": {
    "height": 30
   },
   "outputs": [],
   "source": []
  }
 ],
 "metadata": {
  "kernelspec": {
   "display_name": "Python 3 (ipykernel)",
   "language": "python",
   "name": "python3"
  },
  "language_info": {
   "codemirror_mode": {
    "name": "ipython",
    "version": 3
   },
   "file_extension": ".py",
   "mimetype": "text/x-python",
   "name": "python",
   "nbconvert_exporter": "python",
   "pygments_lexer": "ipython3",
   "version": "3.11.5"
  }
 },
 "nbformat": 4,
 "nbformat_minor": 4
}
